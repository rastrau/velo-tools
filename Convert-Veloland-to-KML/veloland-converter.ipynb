{
 "cells": [
  {
   "cell_type": "code",
   "execution_count": 85,
   "id": "6f60bc1f",
   "metadata": {},
   "outputs": [],
   "source": [
    "# Python 3.9 \n",
    "import geopandas as gpd\n",
    "import simplekml\n",
    "from shapely.ops import transform"
   ]
  },
  {
   "cell_type": "code",
   "execution_count": 89,
   "id": "dfd3e38d",
   "metadata": {},
   "outputs": [],
   "source": [
    "def round_coords_and_flatten(geom, ndigits=2):\n",
    "    \n",
    "   def _round_coords(x, y, z=None):\n",
    "      x = round(x, ndigits)\n",
    "      y = round(y, ndigits)\n",
    "\n",
    "      return (x,y)\n",
    "   \n",
    "   return transform(_round_coords, geom)"
   ]
  },
  {
   "cell_type": "code",
   "execution_count": 90,
   "id": "b865f21b",
   "metadata": {},
   "outputs": [],
   "source": [
    "routes = gpd.read_file(\"./Daten/veloland.gdb\",layer=\"Route\")\n",
    "\n",
    "# Reproject geodataframe from CH1903+ LV95 (EPSG:2056) to WGS1984 (EPSG:4326)\n",
    "routes = routes.to_crs(\"epsg:4326\")\n",
    "\n",
    "routes[\"geometry\"] = routes.geometry.apply(round_coords_and_flatten, ndigits=5)"
   ]
  },
  {
   "cell_type": "code",
   "execution_count": 131,
   "id": "4e370bc4",
   "metadata": {},
   "outputs": [],
   "source": [
    "# Define styles\n",
    "shared_style_international = simplekml.Style()\n",
    "shared_style_international.linestyle.width = 8\n",
    "shared_style_international.linestyle.color = \"cc181D9D\"\n",
    "\n",
    "shared_style_national = simplekml.Style()\n",
    "shared_style_national.linestyle.width = 6\n",
    "shared_style_national.linestyle.color = \"cc181DCD\"\n",
    "\n",
    "shared_style_regional = simplekml.Style()\n",
    "shared_style_regional.linestyle.width = 5\n",
    "shared_style_regional.linestyle.color = \"cc055CFD\"\n",
    "\n",
    "shared_style_lokal = simplekml.Style()\n",
    "shared_style_lokal.linestyle.width = 4\n",
    "shared_style_lokal.linestyle.color = \"cc078FE6\"\n",
    "\n",
    "shared_style_other = simplekml.Style()\n",
    "shared_style_other.linestyle.width = 4\n",
    "shared_style_other.linestyle.color = \"cce75b15\"\n",
    "\n",
    "styles = {\n",
    "    \"International\": shared_style_international,\n",
    "    \"National\": shared_style_national,\n",
    "    \"Regional\": shared_style_regional,\n",
    "    \"Lokal\": shared_style_lokal\n",
    "}"
   ]
  },
  {
   "cell_type": "code",
   "execution_count": 133,
   "id": "ade2539d",
   "metadata": {},
   "outputs": [],
   "source": [
    "for ttype in [\"International\", \"National\", \"Regional\", \"Lokal\"]:    \n",
    "    kml = simplekml.Kml()\n",
    "    kml.document.name = \"Velorouten %s – by ralphstraumann.ch\" % ttype.lower()\n",
    "\n",
    "    routes_ = [route for route in routes.iterfeatures()]\n",
    "    for route in routes_:#[0:1]:\n",
    "        geom = route.get(\"geometry\").get(\"coordinates\")[0]\n",
    "\n",
    "        props = route.get(\"properties\")\n",
    "        tour_nr = props.get(\"TourNrR\")\n",
    "        tour_name = props.get(\"TourNameR\")\n",
    "        tour_desc = props.get(\"BeschreibR\")    \n",
    "        tour_start = props.get(\"AOrt\")\n",
    "        tour_end = props.get(\"ZOrt\")\n",
    "        tour_dir = props.get(\"Abwicklung\")\n",
    "\n",
    "        tour_dist_km = props.get(\"LaengeR\") / 1000\n",
    "        tour_cond_req = props.get(\"KonditionR\")\n",
    "        tour_tech_req = props.get(\"TechnikR\")\n",
    "        tour_type = props.get(\"Typ_TR\")\n",
    "\n",
    "        if tour_type == ttype:\n",
    "\n",
    "            ls = kml.newlinestring(name=\"%s: %s\" % (tour_nr, tour_name))\n",
    "            ls.coords = list(geom)\n",
    "            ls.style = styles.get(tour_type)\n",
    "\n",
    "    kml.save(\"./Daten/Veloland-%se-Routen.kml\" % ttype)"
   ]
  },
  {
   "cell_type": "code",
   "execution_count": null,
   "id": "3a5d47cf",
   "metadata": {},
   "outputs": [],
   "source": [
    "print(kml.kml())"
   ]
  }
 ],
 "metadata": {
  "kernelspec": {
   "display_name": "Python 3 (ipykernel)",
   "language": "python",
   "name": "python3"
  },
  "language_info": {
   "codemirror_mode": {
    "name": "ipython",
    "version": 3
   },
   "file_extension": ".py",
   "mimetype": "text/x-python",
   "name": "python",
   "nbconvert_exporter": "python",
   "pygments_lexer": "ipython3",
   "version": "3.9.0"
  }
 },
 "nbformat": 4,
 "nbformat_minor": 5
}
